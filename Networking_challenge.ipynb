{
 "cells": [
  {
   "cell_type": "code",
   "execution_count": 1,
   "id": "7003abed",
   "metadata": {},
   "outputs": [],
   "source": [
    "#imports \n",
    "import pandas as pd \n",
    "import numpy as np \n",
    "import matplotlib.pyplot as plt\n",
    "import seaborn as sns "
   ]
  },
  {
   "cell_type": "code",
   "execution_count": 2,
   "id": "5f2e7e4c",
   "metadata": {},
   "outputs": [],
   "source": [
    "#Sklearn imports \n",
    "from sklearn.base import BaseEstimator, TransformerMixin\n",
    "from sklearn.compose import make_column_transformer\n",
    "from sklearn.preprocessing import OrdinalEncoder, StandardScaler, OneHotEncoder, LabelBinarizer, LabelEncoder\n",
    "from sklearn.pipeline import make_pipeline\n",
    "from sklearn.impute import SimpleImputer , KNNImputer\n",
    "from sklearn.ensemble import RandomForestClassifier\n",
    "from sklearn.model_selection import train_test_split, GridSearchCV"
   ]
  },
  {
   "cell_type": "code",
   "execution_count": 3,
   "id": "5eba802b",
   "metadata": {},
   "outputs": [],
   "source": [
    "#Load dataset\n",
    "df_vpn1 = pd.read_json('vpn1.json')\n",
    "df_vpn2 = pd.read_json('vpn2.json')\n",
    "df_vpn3 = pd.read_json('vpn3.json')"
   ]
  },
  {
   "cell_type": "code",
   "execution_count": 4,
   "id": "4ae04769",
   "metadata": {},
   "outputs": [],
   "source": [
    "def extracting_data(df,target):\n",
    "    l_id = []\n",
    "    l_bits = []\n",
    "    l_direction = []\n",
    "    l_packets_number = []\n",
    "    l_timestamp = []\n",
    "    l_target = []\n",
    "    \n",
    "    \n",
    "    for i in range(len(df['x_packets'])):\n",
    "        packets = df['x_packets'][i]\n",
    "        for packet in packets:\n",
    "            l_bits.append(packet['bytes'])\n",
    "            l_direction.append(packet['direction'])\n",
    "            l_packets_number.append(packet['packets_number'])\n",
    "            l_timestamp.append(packet['timestamp'])\n",
    "            l_id.append(df['id'][i])\n",
    "            l_target.append(target)\n",
    "            \n",
    "    return l_id,l_bits,l_direction,l_packets_number,l_timestamp,l_target\n",
    "    "
   ]
  },
  {
   "cell_type": "code",
   "execution_count": 5,
   "id": "cfa0b487",
   "metadata": {},
   "outputs": [],
   "source": [
    "#formated vp1 dataframe\n",
    "l_id,l_bits,l_direction,l_packets_number,l_timestamp,l_target = extracting_data(df_vpn1,'vpn1')\n",
    "formated_df_vp1 = pd.DataFrame(list(zip(l_id,l_bits,l_direction,l_packets_number,l_timestamp,l_target)), columns =['id', 'bytes','direction','packets_number','timestamp','target'])\n",
    "\n",
    "#formated vpn2 dataframe\n",
    "l_id,l_bits,l_direction,l_packets_number,l_timestamp,l_target = extracting_data(df_vpn2,'vpn2')\n",
    "formated_df_vp2 = pd.DataFrame(list(zip(l_id,l_bits,l_direction,l_packets_number,l_timestamp,l_target)), columns =['id', 'bytes','direction','packets_number','timestamp','target'])\n",
    "\n",
    "#formated vpn3 dataframe\n",
    "l_id,l_bits,l_direction,l_packets_number,l_timestamp,l_target = extracting_data(df_vpn3,'vpn3')\n",
    "formated_df_vp3 = pd.DataFrame(list(zip(l_id,l_bits,l_direction,l_packets_number,l_timestamp,l_target)), columns =['id', 'bytes','direction','packets_number','timestamp','target'])"
   ]
  },
  {
   "cell_type": "code",
   "execution_count": 32,
   "id": "45c7cbc2",
   "metadata": {},
   "outputs": [
    {
     "data": {
      "text/plain": [
       "1084.2026141360163"
      ]
     },
     "execution_count": 32,
     "metadata": {},
     "output_type": "execute_result"
    }
   ],
   "source": []
  },
  {
   "cell_type": "code",
   "execution_count": 57,
   "id": "9df76cbf",
   "metadata": {},
   "outputs": [
    {
     "name": "stdout",
     "output_type": "stream",
     "text": [
      "1088387\n",
      "1088387\n"
     ]
    }
   ],
   "source": [
    "#Verify if extracting data is good \n",
    "print(len(l_id))\n",
    "ll = []\n",
    "for i in range(len(df_vpn3)):\n",
    "    ll.append(len(df_vpn3['x_packets'][i]))\n",
    "print(sum(ll))\n",
    "    "
   ]
  },
  {
   "cell_type": "code",
   "execution_count": 6,
   "id": "f5ecab7d",
   "metadata": {},
   "outputs": [
    {
     "data": {
      "text/html": [
       "<div>\n",
       "<style scoped>\n",
       "    .dataframe tbody tr th:only-of-type {\n",
       "        vertical-align: middle;\n",
       "    }\n",
       "\n",
       "    .dataframe tbody tr th {\n",
       "        vertical-align: top;\n",
       "    }\n",
       "\n",
       "    .dataframe thead th {\n",
       "        text-align: right;\n",
       "    }\n",
       "</style>\n",
       "<table border=\"1\" class=\"dataframe\">\n",
       "  <thead>\n",
       "    <tr style=\"text-align: right;\">\n",
       "      <th></th>\n",
       "      <th>id</th>\n",
       "      <th>bytes</th>\n",
       "      <th>direction</th>\n",
       "      <th>packets_number</th>\n",
       "      <th>timestamp</th>\n",
       "      <th>target</th>\n",
       "    </tr>\n",
       "  </thead>\n",
       "  <tbody>\n",
       "    <tr>\n",
       "      <th>0</th>\n",
       "      <td>DdpYMBdSWcwU7kN7NWjWPQ</td>\n",
       "      <td>183</td>\n",
       "      <td>1</td>\n",
       "      <td>1</td>\n",
       "      <td>0.000000</td>\n",
       "      <td>vpn1</td>\n",
       "    </tr>\n",
       "    <tr>\n",
       "      <th>1</th>\n",
       "      <td>DdpYMBdSWcwU7kN7NWjWPQ</td>\n",
       "      <td>52</td>\n",
       "      <td>-1</td>\n",
       "      <td>1</td>\n",
       "      <td>0.047616</td>\n",
       "      <td>vpn1</td>\n",
       "    </tr>\n",
       "    <tr>\n",
       "      <th>2</th>\n",
       "      <td>DdpYMBdSWcwU7kN7NWjWPQ</td>\n",
       "      <td>679</td>\n",
       "      <td>1</td>\n",
       "      <td>1</td>\n",
       "      <td>0.048298</td>\n",
       "      <td>vpn1</td>\n",
       "    </tr>\n",
       "    <tr>\n",
       "      <th>3</th>\n",
       "      <td>DdpYMBdSWcwU7kN7NWjWPQ</td>\n",
       "      <td>52</td>\n",
       "      <td>-1</td>\n",
       "      <td>1</td>\n",
       "      <td>0.048652</td>\n",
       "      <td>vpn1</td>\n",
       "    </tr>\n",
       "    <tr>\n",
       "      <th>4</th>\n",
       "      <td>DdpYMBdSWcwU7kN7NWjWPQ</td>\n",
       "      <td>167</td>\n",
       "      <td>-1</td>\n",
       "      <td>1</td>\n",
       "      <td>0.052448</td>\n",
       "      <td>vpn1</td>\n",
       "    </tr>\n",
       "  </tbody>\n",
       "</table>\n",
       "</div>"
      ],
      "text/plain": [
       "                       id  bytes  direction  packets_number  timestamp target\n",
       "0  DdpYMBdSWcwU7kN7NWjWPQ    183          1               1   0.000000   vpn1\n",
       "1  DdpYMBdSWcwU7kN7NWjWPQ     52         -1               1   0.047616   vpn1\n",
       "2  DdpYMBdSWcwU7kN7NWjWPQ    679          1               1   0.048298   vpn1\n",
       "3  DdpYMBdSWcwU7kN7NWjWPQ     52         -1               1   0.048652   vpn1\n",
       "4  DdpYMBdSWcwU7kN7NWjWPQ    167         -1               1   0.052448   vpn1"
      ]
     },
     "execution_count": 6,
     "metadata": {},
     "output_type": "execute_result"
    }
   ],
   "source": [
    "df = pd.concat([formated_df_vp1,formated_df_vp2,formated_df_vp3]).reset_index()\n",
    "df.drop('index',axis=1, inplace=True)\n",
    "df.head()"
   ]
  },
  {
   "cell_type": "code",
   "execution_count": 7,
   "id": "f517cdf9",
   "metadata": {},
   "outputs": [
    {
     "data": {
      "text/plain": [
       "vpn2    1364028\n",
       "vpn3    1088387\n",
       "vpn1     883195\n",
       "Name: target, dtype: int64"
      ]
     },
     "execution_count": 7,
     "metadata": {},
     "output_type": "execute_result"
    }
   ],
   "source": [
    "df['target'].value_counts()"
   ]
  },
  {
   "cell_type": "code",
   "execution_count": 69,
   "id": "f0607f9e",
   "metadata": {},
   "outputs": [
    {
     "data": {
      "text/plain": [
       "Index(['id', 'bytes', 'direction', 'packets_number', 'timestamp'], dtype='object')"
      ]
     },
     "execution_count": 69,
     "metadata": {},
     "output_type": "execute_result"
    }
   ],
   "source": [
    "df.columns"
   ]
  },
  {
   "cell_type": "code",
   "execution_count": 8,
   "id": "3f3c5680",
   "metadata": {},
   "outputs": [],
   "source": [
    "#Preprocessing features\n",
    "numerical_features = ['bytes', 'direction', 'packets_number', 'timestamp']\n",
    "categorical_feautures = ['id']\n",
    "\n",
    "numerical_pipline = make_pipeline(StandardScaler())\n",
    "categorical_pipline = make_pipeline(OrdinalEncoder(unknown_value=-1,handle_unknown='use_encoded_value'),StandardScaler())\n",
    "\n",
    "preprocessing = make_column_transformer((numerical_pipline,numerical_features),(categorical_pipline,categorical_feautures))"
   ]
  },
  {
   "cell_type": "code",
   "execution_count": 9,
   "id": "6f875dfb",
   "metadata": {},
   "outputs": [],
   "source": [
    "#Split data feautures and target \n",
    "features = ['id','bytes', 'direction', 'packets_number', 'timestamp']\n",
    "target = ['target']\n",
    "\n",
    "X = df[features]\n",
    "y = df[target]"
   ]
  },
  {
   "cell_type": "code",
   "execution_count": 10,
   "id": "b8bf2777",
   "metadata": {},
   "outputs": [],
   "source": [
    "X_transformed = preprocessing.fit_transform(X)\n"
   ]
  },
  {
   "cell_type": "code",
   "execution_count": 11,
   "id": "17c424a1",
   "metadata": {
    "scrolled": true
   },
   "outputs": [
    {
     "data": {
      "text/plain": [
       "array([[-0.95870354,  1.29363218, -0.27104436, -0.52762616, -0.82185015],\n",
       "       [-1.09964138, -0.77301726, -0.27104436, -0.52518539, -0.82185015],\n",
       "       [-0.42507632,  1.29363218, -0.27104436, -0.52515043, -0.82185015],\n",
       "       ...,\n",
       "       [-0.53589003,  1.29363218, -0.27104436, -0.52762483,  0.08374378],\n",
       "       [-0.53589003,  1.29363218, -0.27104436, -0.52762365,  0.08374378],\n",
       "       [-0.53589003,  1.29363218, -0.27104436, -0.52762211,  0.08374378]])"
      ]
     },
     "execution_count": 11,
     "metadata": {},
     "output_type": "execute_result"
    }
   ],
   "source": [
    "X_transformed"
   ]
  },
  {
   "cell_type": "code",
   "execution_count": 12,
   "id": "f4c370a8",
   "metadata": {},
   "outputs": [],
   "source": [
    "X_train, X_test, y_train, y_test = train_test_split(X_transformed, y, test_size=0.33, random_state=42)"
   ]
  },
  {
   "cell_type": "code",
   "execution_count": 155,
   "id": "7eef7a1e",
   "metadata": {},
   "outputs": [
    {
     "name": "stderr",
     "output_type": "stream",
     "text": [
      "C:\\Users\\ADMIN\\anaconda3\\lib\\site-packages\\sklearn\\model_selection\\_validation.py:372: FitFailedWarning: \n",
      "54 fits failed out of a total of 162.\n",
      "The score on these train-test partitions for these parameters will be set to nan.\n",
      "If these failures are not expected, you can try to debug them by setting error_score='raise'.\n",
      "\n",
      "Below are more details about the failures:\n",
      "--------------------------------------------------------------------------------\n",
      "54 fits failed with the following error:\n",
      "Traceback (most recent call last):\n",
      "  File \"C:\\Users\\ADMIN\\anaconda3\\lib\\site-packages\\sklearn\\model_selection\\_validation.py\", line 680, in _fit_and_score\n",
      "    estimator.fit(X_train, y_train, **fit_params)\n",
      "  File \"C:\\Users\\ADMIN\\anaconda3\\lib\\site-packages\\sklearn\\tree\\_classes.py\", line 937, in fit\n",
      "    super().fit(\n",
      "  File \"C:\\Users\\ADMIN\\anaconda3\\lib\\site-packages\\sklearn\\tree\\_classes.py\", line 352, in fit\n",
      "    criterion = CRITERIA_CLF[self.criterion](\n",
      "KeyError: 'log_loss'\n",
      "\n",
      "  warnings.warn(some_fits_failed_message, FitFailedWarning)\n",
      "C:\\Users\\ADMIN\\anaconda3\\lib\\site-packages\\sklearn\\model_selection\\_search.py:969: UserWarning: One or more of the test scores are non-finite: [0.99797034 0.99655683 0.99793141 0.99618275 0.99790233 0.99679174\n",
      " 0.528166   0.46654329 0.528166   0.46654329 0.528166   0.46654329\n",
      " 0.61329534 0.55324097 0.61329534 0.55324097 0.61329534 0.55324097\n",
      " 0.99839363 0.99671031 0.99836902 0.99703874 0.99835202 0.99649195\n",
      " 0.528166   0.46599292 0.528166   0.46599292 0.528166   0.46599292\n",
      " 0.61329579 0.53917921 0.61329579 0.53917921 0.61329579 0.53917921\n",
      "        nan        nan        nan        nan        nan        nan\n",
      "        nan        nan        nan        nan        nan        nan\n",
      "        nan        nan        nan        nan        nan        nan]\n",
      "  warnings.warn(\n"
     ]
    },
    {
     "data": {
      "text/plain": [
       "GridSearchCV(cv=3, estimator=DecisionTreeClassifier(random_state=42),\n",
       "             param_grid={'criterion': ['gini', 'entropy', 'log_loss'],\n",
       "                         'max_depth': [None, 2, 4],\n",
       "                         'min_samples_split': [2, 4, 6],\n",
       "                         'splitter': ['best', 'random']})"
      ]
     },
     "execution_count": 155,
     "metadata": {},
     "output_type": "execute_result"
    }
   ],
   "source": [
    "rfc=DecisionTreeClassifier(random_state=42)\n",
    "\n",
    "param_grid = { \n",
    "    'splitter': ['best','random'],\n",
    "    'min_samples_split': [2,4,6],\n",
    "    'max_depth' : [None,2,4],\n",
    "    'criterion' :['gini', 'entropy','log_loss']\n",
    "}\n",
    "\n",
    "CV_rfc = GridSearchCV(estimator=rfc, param_grid=param_grid, cv= 3)\n",
    "CV_rfc.fit(X_train, y_train.values.ravel())"
   ]
  },
  {
   "cell_type": "code",
   "execution_count": null,
   "id": "0a2687ce",
   "metadata": {},
   "outputs": [],
   "source": [
    "X_transformed = pd.DataFrame(X_transformed)"
   ]
  },
  {
   "cell_type": "code",
   "execution_count": 156,
   "id": "f97c19d4",
   "metadata": {},
   "outputs": [
    {
     "data": {
      "text/plain": [
       "{'criterion': 'entropy',\n",
       " 'max_depth': None,\n",
       " 'min_samples_split': 2,\n",
       " 'splitter': 'best'}"
      ]
     },
     "execution_count": 156,
     "metadata": {},
     "output_type": "execute_result"
    }
   ],
   "source": [
    "CV_rfc.best_params_"
   ]
  },
  {
   "cell_type": "code",
   "execution_count": 13,
   "id": "fb28e447",
   "metadata": {},
   "outputs": [],
   "source": [
    "from sklearn.tree import DecisionTreeClassifier\n",
    "Fmodel = DecisionTreeClassifier(random_state=0,criterion='entropy')\n"
   ]
  },
  {
   "cell_type": "code",
   "execution_count": 14,
   "id": "6fa1d847",
   "metadata": {},
   "outputs": [
    {
     "data": {
      "text/plain": [
       "DecisionTreeClassifier(criterion='entropy', random_state=0)"
      ]
     },
     "execution_count": 14,
     "metadata": {},
     "output_type": "execute_result"
    }
   ],
   "source": [
    "Fmodel"
   ]
  },
  {
   "cell_type": "code",
   "execution_count": 15,
   "id": "11d8a956",
   "metadata": {},
   "outputs": [
    {
     "data": {
      "text/plain": [
       "DecisionTreeClassifier(criterion='entropy', random_state=0)"
      ]
     },
     "execution_count": 15,
     "metadata": {},
     "output_type": "execute_result"
    }
   ],
   "source": [
    "Fmodel.fit(X_train,y_train.values.ravel())"
   ]
  },
  {
   "cell_type": "code",
   "execution_count": 16,
   "id": "08179874",
   "metadata": {},
   "outputs": [
    {
     "name": "stdout",
     "output_type": "stream",
     "text": [
      "the accuracy of the model on the training set is 1.0\n",
      "the accuracy of the model on the validation set is 0.9984655944299897\n"
     ]
    }
   ],
   "source": [
    "#Scoring\n",
    "from sklearn.metrics import f1_score\n",
    "print(f'the accuracy of the model on the training set is {Fmodel.score(X_train, y_train)}')\n",
    "print(f'the accuracy of the model on the validation set is {Fmodel.score(X_test, y_test)}')"
   ]
  },
  {
   "cell_type": "code",
   "execution_count": 17,
   "id": "53f2ebdb",
   "metadata": {},
   "outputs": [
    {
     "data": {
      "text/plain": [
       "DecisionTreeClassifier(criterion='entropy', random_state=0)"
      ]
     },
     "execution_count": 17,
     "metadata": {},
     "output_type": "execute_result"
    }
   ],
   "source": [
    "Fmodel.fit(X_transformed,y.values.ravel())"
   ]
  },
  {
   "cell_type": "code",
   "execution_count": 18,
   "id": "6fefedde",
   "metadata": {},
   "outputs": [],
   "source": [
    "df_test = pd.read_json('test_data.json')"
   ]
  },
  {
   "cell_type": "code",
   "execution_count": 19,
   "id": "d0c56fc9",
   "metadata": {},
   "outputs": [],
   "source": [
    "l_id,l_bits,l_direction,l_packets_number,l_timestamp,l_target = extracting_data(df_test,None)\n",
    "formated_df_test = pd.DataFrame(list(zip(l_id,l_bits,l_direction,l_packets_number,l_timestamp,l_target)), columns =['id', 'bytes','direction','packets_number','timestamp','target'])"
   ]
  },
  {
   "cell_type": "code",
   "execution_count": 20,
   "id": "ac2a0edc",
   "metadata": {},
   "outputs": [],
   "source": [
    "formated_df_test.drop('target', axis=1, inplace=True)"
   ]
  },
  {
   "cell_type": "code",
   "execution_count": 21,
   "id": "68a86ffc",
   "metadata": {},
   "outputs": [],
   "source": [
    "X_test_transformed = preprocessing.transform(formated_df_test)\n",
    "y_test_predict = Fmodel.predict(X_test_transformed)"
   ]
  },
  {
   "cell_type": "code",
   "execution_count": 22,
   "id": "cfdc41dd",
   "metadata": {},
   "outputs": [
    {
     "data": {
      "text/plain": [
       "array(['vpn3', 'vpn3', 'vpn3', ..., 'vpn3', 'vpn3', 'vpn3'], dtype=object)"
      ]
     },
     "execution_count": 22,
     "metadata": {},
     "output_type": "execute_result"
    }
   ],
   "source": [
    "y_test_predict"
   ]
  },
  {
   "cell_type": "code",
   "execution_count": 23,
   "id": "e18db8df",
   "metadata": {},
   "outputs": [],
   "source": [
    "formated_df_test['label'] = y_test_predict"
   ]
  },
  {
   "cell_type": "code",
   "execution_count": 24,
   "id": "865be5ef",
   "metadata": {},
   "outputs": [],
   "source": [
    "pre_out = formated_df_test.drop(['bytes','direction','packets_number','timestamp'],axis=1)"
   ]
  },
  {
   "cell_type": "code",
   "execution_count": 25,
   "id": "09ea58c9",
   "metadata": {},
   "outputs": [],
   "source": [
    "ids = pre_out['id'].unique()"
   ]
  },
  {
   "cell_type": "code",
   "execution_count": 26,
   "id": "ece5c574",
   "metadata": {},
   "outputs": [],
   "source": [
    "labels = []\n",
    "for i in range(len(ids)):\n",
    "    nw_pd = pre_out[pre_out['id']== ids[i]]\n",
    "    frequency = nw_pd['label'].value_counts()\n",
    "    top_label = frequency.index[0]\n",
    "    labels.append(top_label)\n"
   ]
  },
  {
   "cell_type": "code",
   "execution_count": 27,
   "id": "2bc18771",
   "metadata": {},
   "outputs": [
    {
     "data": {
      "text/plain": [
       "46"
      ]
     },
     "execution_count": 27,
     "metadata": {},
     "output_type": "execute_result"
    }
   ],
   "source": [
    "len(labels)"
   ]
  },
  {
   "cell_type": "code",
   "execution_count": 28,
   "id": "1d273ae1",
   "metadata": {},
   "outputs": [],
   "source": [
    "sub = pd.DataFrame(data={'id': ids, 'label': labels}).set_index(\"id\")"
   ]
  },
  {
   "cell_type": "code",
   "execution_count": 29,
   "id": "28f9c63c",
   "metadata": {},
   "outputs": [],
   "source": [
    "sub.to_csv('submit2.csv')"
   ]
  },
  {
   "cell_type": "code",
   "execution_count": null,
   "id": "5ac8ccd7",
   "metadata": {},
   "outputs": [],
   "source": []
  }
 ],
 "metadata": {
  "kernelspec": {
   "display_name": "Python 3 (ipykernel)",
   "language": "python",
   "name": "python3"
  },
  "language_info": {
   "codemirror_mode": {
    "name": "ipython",
    "version": 3
   },
   "file_extension": ".py",
   "mimetype": "text/x-python",
   "name": "python",
   "nbconvert_exporter": "python",
   "pygments_lexer": "ipython3",
   "version": "3.9.12"
  }
 },
 "nbformat": 4,
 "nbformat_minor": 5
}
